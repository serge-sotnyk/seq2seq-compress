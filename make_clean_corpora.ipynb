{
 "cells": [
  {
   "cell_type": "code",
   "execution_count": 1,
   "metadata": {},
   "outputs": [],
   "source": [
    "import json"
   ]
  },
  {
   "cell_type": "code",
   "execution_count": 2,
   "metadata": {},
   "outputs": [],
   "source": [
    "def extract_pairs(fn: str):\n",
    "    samples = []\n",
    "    with open(fn, 'rt', encoding='utf-8') as f:\n",
    "        text = f.read()\n",
    "        samples = text.split('\\n\\n')\n",
    "    js_samples = [json.loads(s) for s in samples if s.strip()!='']\n",
    "    res = [(s['graph']['sentence'], s['compression']['text']) for s in js_samples]\n",
    "    return res"
   ]
  },
  {
   "cell_type": "code",
   "execution_count": 3,
   "metadata": {},
   "outputs": [
    {
     "name": "stdout",
     "output_type": "stream",
     "text": [
      "20000\n"
     ]
    }
   ],
   "source": [
    "samples_01 = extract_pairs('data/sent-comp.train01.json')\n",
    "print(len(samples_01))"
   ]
  },
  {
   "cell_type": "code",
   "execution_count": 4,
   "metadata": {
    "scrolled": true
   },
   "outputs": [
    {
     "name": "stdout",
     "output_type": "stream",
     "text": [
      "('Serge Ibaka -- the Oklahoma City Thunder forward who was born in the Congo but played in Spain -- has been granted Spanish citizenship and will play for the country in EuroBasket this summer, the event where spots in the 2012 Olympics will be decided.', 'Serge Ibaka has been granted Spanish citizenship and will play in EuroBasket.')\n",
      "('MILAN -Catania held Roma to a 1-1 draw in Serie A on Wednesday as the teams played out the remaining 25 minutes of a game that was called off last month.', 'Catania held Roma to a 1 1 draw in Serie A.')\n",
      "('State Street Corporation, a provider of investment servicing, investment management and investment research and trading services, has launched a new investment servicing solution to support small to mid-sized asset managers with their investment operations needs.', 'State Street Corporation, has launched a new investment servicing solution.')\n",
      "('Massey Energy, the fourth largest coal company in the country, could have its corporate charter revoked if public interest organizations have their way.', 'Massey Energy, the coal company, could have its corporate charter revoked.')\n",
      "('Foundation for MetroWest has awarded $55,000 in grants to 37 food pantries across the region, drawing on two of its funds that provide winter assistance to families in need.', 'Foundation for MetroWest has awarded $ 55,000 in grants to 37 food pantries across the region.')\n",
      "(\"Wong won't rule out super raid Updated: 08:17, Tuesday March 26, 2013 Finance Minister Penny Wong has declined to rule out axing tax concessions for superannuation in the May budget.\", \"Wong won't rule out super raid.\")\n",
      "(\"TINY 'robots' that can be dropped into an industrial process to report any problems are being developed by a Woolston company.\", 'TINY robots are being developed by a company.')\n",
      "('Jordan and South Korea have pledged to cooperate on nuclear regulatory issues as part of an agreement signed on Saturday.', 'Jordan and South Korea have pledged to cooperate on regulatory issues.')\n",
      "(\"Just after the Fourth of July holiday, and only a week after the city's budget has been completed, City Council Member Robert Jackson will hold two town hall meetings in cooperation with several other Northern Manhattan elected officials.\", 'Robert Jackson will hold two town hall meetings.')\n",
      "('Tim Cowlishaw made a bad joke and now the MMA blogosphere is lighting torches and sharpening pitchforks.', 'Tim Cowlishaw made a bad joke.')\n"
     ]
    }
   ],
   "source": [
    "for s in samples_01[:10]:\n",
    "    print(s)"
   ]
  },
  {
   "cell_type": "code",
   "execution_count": 5,
   "metadata": {},
   "outputs": [
    {
     "name": "stdout",
     "output_type": "stream",
     "text": [
      "Process file \"data/sent-comp.train01.json\"...\n",
      "Done!\n",
      "Process file \"data/sent-comp.train02.json\"...\n",
      "Done!\n",
      "Process file \"data/sent-comp.train03.json\"...\n",
      "Done!\n",
      "Process file \"data/sent-comp.train04.json\"...\n",
      "Done!\n",
      "Process file \"data/sent-comp.train05.json\"...\n",
      "Done!\n",
      "Process file \"data/sent-comp.train06.json\"...\n",
      "Done!\n",
      "Process file \"data/sent-comp.train07.json\"...\n",
      "Done!\n",
      "Process file \"data/sent-comp.train08.json\"...\n",
      "Done!\n",
      "Process file \"data/sent-comp.train09.json\"...\n",
      "Done!\n",
      "Process file \"data/sent-comp.train10.json\"...\n",
      "Done!\n",
      "Total samples: 200000\n"
     ]
    }
   ],
   "source": [
    "samples = []\n",
    "for fnum in ['01', '02', '03', '04', '05', '06', '07', '08', '09', '10']:\n",
    "    fn = 'data/sent-comp.train'+fnum+'.json'\n",
    "    print(f'Process file \"{fn}\"...')\n",
    "    samples += extract_pairs(fn)\n",
    "    print('Done!')\n",
    "print(f\"Total samples: {len(samples)}\")"
   ]
  },
  {
   "cell_type": "code",
   "execution_count": 6,
   "metadata": {},
   "outputs": [],
   "source": [
    "def save_samples(fn: str, samples):\n",
    "    separ = '\\t'\n",
    "    for s in samples:\n",
    "        if (s[0]+s[1]).find(separ)>-1:\n",
    "            raise ValueError(f'Example \"{s0}\"+\"{s1}\" contains separator char.')\n",
    "    sv = ['original'+separ+'compressed']\n",
    "    sv += [s[0]+separ+s[1] for s in samples]\n",
    "    with open(fn, 'wt', encoding='utf-8') as f:\n",
    "        f.write('\\n'.join(sv))"
   ]
  },
  {
   "cell_type": "code",
   "execution_count": 7,
   "metadata": {},
   "outputs": [],
   "source": [
    "save_samples('data/sent-comp.train.tsv', samples)"
   ]
  },
  {
   "cell_type": "code",
   "execution_count": 8,
   "metadata": {},
   "outputs": [
    {
     "name": "stdout",
     "output_type": "stream",
     "text": [
      "10000\n"
     ]
    }
   ],
   "source": [
    "samples_eval = extract_pairs('data/comp-data.eval.json')\n",
    "print(len(samples_eval))"
   ]
  },
  {
   "cell_type": "code",
   "execution_count": 9,
   "metadata": {},
   "outputs": [],
   "source": [
    "save_samples('data/comp-data.eval.tsv', samples_eval)"
   ]
  },
  {
   "cell_type": "code",
   "execution_count": null,
   "metadata": {},
   "outputs": [],
   "source": []
  }
 ],
 "metadata": {
  "kernelspec": {
   "display_name": "nlp",
   "language": "python",
   "name": "nlp"
  },
  "language_info": {
   "codemirror_mode": {
    "name": "ipython",
    "version": 3
   },
   "file_extension": ".py",
   "mimetype": "text/x-python",
   "name": "python",
   "nbconvert_exporter": "python",
   "pygments_lexer": "ipython3",
   "version": "3.6.8"
  }
 },
 "nbformat": 4,
 "nbformat_minor": 2
}
